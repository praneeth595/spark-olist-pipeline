{
 "cells": [
  {
   "cell_type": "code",
   "execution_count": 0,
   "metadata": {
    "application/vnd.databricks.v1+cell": {
     "cellMetadata": {
      "byteLimit": 2048000,
      "rowLimit": 10000
     },
     "inputWidgets": {},
     "nuid": "d8b39935-30f1-40e9-baf6-feb4bab60434",
     "showTitle": false,
     "tableResultSettingsMap": {},
     "title": ""
    }
   },
   "outputs": [],
   "source": [
    "import sys\n",
    "sys.path.append(\n",
    "    \"/Workspace/Repos/h20240186@pilani.bits-pilani.ac.in/spark-olist-pipeline/src/gold\"\n",
    ")"
   ]
  },
  {
   "cell_type": "code",
   "execution_count": 0,
   "metadata": {
    "application/vnd.databricks.v1+cell": {
     "cellMetadata": {
      "byteLimit": 2048000,
      "rowLimit": 10000
     },
     "inputWidgets": {},
     "nuid": "1db15488-8259-4f6b-906d-c8db2a909540",
     "showTitle": false,
     "tableResultSettingsMap": {},
     "title": ""
    }
   },
   "outputs": [],
   "source": [
    "\n",
    "from chispa.dataframe_comparer import assert_df_equality\n",
    "from pyspark.sql import functions as F\n",
    "\n",
    "\n",
    "def test_daily_state_revenue(spark):\n",
    "    orders = spark.createDataFrame([\n",
    "        (\"o1\", \"c1\", \"2018-01-01 10:00:00\"),\n",
    "        (\"o2\", \"c2\", \"2018-01-01 12:00:00\"),\n",
    "        (\"o3\", \"c1\", \"2018-01-02 09:00:00\"),\n",
    "    ], [\"order_id\", \"customer_id\", \"order_purchase_timestamp\"])\\\n",
    "    .withColumn(\"order_purchase_timestamp\", F.to_timestamp(\"order_purchase_timestamp\"))\n",
    "\n",
    "    customers = spark.createDataFrame([\n",
    "        (\"c1\", \"SP\"),\n",
    "        (\"c2\", \"RJ\"),\n",
    "    ], [\"customer_id\", \"customer_state\"])\n",
    "\n",
    "    payments = spark.createDataFrame([\n",
    "        (\"o1\", 100.0),\n",
    "        (\"o2\", 200.0),\n",
    "        (\"o3\", 150.0),\n",
    "    ], [\"order_id\", \"payment_value\"])\n",
    "\n",
    "    result = build_daily_state_revenue(orders, customers, payments)\n",
    "\n",
    "    expected = spark.createDataFrame([\n",
    "        (\"2018-01-01\", \"SP\", 100.0),\n",
    "        (\"2018-01-01\", \"RJ\", 200.0),\n",
    "        (\"2018-01-02\", \"SP\", 150.0),\n",
    "    ], [\"order_date\", \"customer_state\", \"daily_revenue\"])\\\n",
    "    .withColumn(\"order_date\", F.to_date(\"order_date\"))\n",
    "\n",
    "    assert_df_equality(result, expected, ignore_row_order=True, ignore_column_order=True)\n"
   ]
  },
  {
   "cell_type": "code",
   "execution_count": 0,
   "metadata": {
    "application/vnd.databricks.v1+cell": {
     "cellMetadata": {
      "byteLimit": 2048000,
      "rowLimit": 10000
     },
     "inputWidgets": {},
     "nuid": "12c9b5c9-1f7a-434c-ae41-00e701be131b",
     "showTitle": false,
     "tableResultSettingsMap": {},
     "title": ""
    }
   },
   "outputs": [],
   "source": [
    "%pip install chispa"
   ]
  },
  {
   "cell_type": "code",
   "execution_count": 0,
   "metadata": {
    "application/vnd.databricks.v1+cell": {
     "cellMetadata": {},
     "inputWidgets": {},
     "nuid": "61ba2ac3-dc55-48a4-ba03-dbd761c1b381",
     "showTitle": false,
     "tableResultSettingsMap": {},
     "title": ""
    }
   },
   "outputs": [],
   "source": []
  }
 ],
 "metadata": {
  "application/vnd.databricks.v1+notebook": {
   "computePreferences": {
    "hardware": {
     "accelerator": null,
     "gpuPoolId": null,
     "memory": null
    }
   },
   "dashboards": [],
   "environmentMetadata": {
    "base_environment": "",
    "environment_version": "3"
   },
   "inputWidgetPreferences": null,
   "language": "python",
   "notebookMetadata": {
    "pythonIndentUnit": 4
   },
   "notebookName": "test_daily_sales",
   "widgets": {}
  },
  "language_info": {
   "name": "python"
  }
 },
 "nbformat": 4,
 "nbformat_minor": 0
}
