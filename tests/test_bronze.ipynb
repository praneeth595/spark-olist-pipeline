{
 "cells": [
  {
   "cell_type": "code",
   "execution_count": 0,
   "metadata": {
    "application/vnd.databricks.v1+cell": {
     "cellMetadata": {},
     "inputWidgets": {},
     "nuid": "2788b906-e93a-4f2d-a57b-c3ecebe92830",
     "showTitle": false,
     "tableResultSettingsMap": {},
     "title": ""
    }
   },
   "outputs": [],
   "source": [
    "from chispa.dataframe_comparer import assert_df_equality\n",
    "from pyspark.sql import functions as F\n",
    "\n",
    "\n",
    "from src.bronze_ingest import ingest_to_bronze\n",
    "\n",
    "\n",
    "def test_ingest_to_bronze_adds_partition_col(spark, tmp_path):\n",
    "   \n",
    "    data = [\n",
    "        (\"o1\", \"2021-01-15 10:00:00\"),\n",
    "        (\"o2\", \"2021-02-20 12:00:00\"),\n",
    "    ]\n",
    "    df = spark.createDataFrame(data, [\"order_id\", \"order_purchase_timestamp\"]) \\\n",
    "              .withColumn(\"order_purchase_timestamp\", F.to_timestamp(\"order_purchase_timestamp\"))\n",
    "\n",
    "        cfg = {\"input_path\": \"\", \"output_path\": str(tmp_path), \"partition_col\": \"order_purchase_timestamp\"}\n",
    "\n",
    "   \n",
    "    result = ingest_to_bronze(df, cfg)   \n",
    "\n",
    "    expected = spark.createDataFrame([\n",
    "        (\"o1\", \"2021-01-15 10:00:00\", \"2021-01\"),\n",
    "        (\"o2\", \"2021-02-20 12:00:00\", \"2021-02\"),\n",
    "    ], [\"order_id\", \"order_purchase_timestamp\", \"order_month\"]) \\\n",
    "    .withColumn(\"order_purchase_timestamp\", F.to_timestamp(\"order_purchase_timestamp\"))\n",
    "\n",
    "    assert_df_equality(result, expected, ignore_row_order=True)\n"
   ]
  }
 ],
 "metadata": {
  "application/vnd.databricks.v1+notebook": {
   "computePreferences": null,
   "dashboards": [],
   "environmentMetadata": {
    "base_environment": "",
    "environment_version": "3"
   },
   "inputWidgetPreferences": null,
   "language": "python",
   "notebookMetadata": {
    "pythonIndentUnit": 4
   },
   "notebookName": "test_bronze",
   "widgets": {}
  },
  "language_info": {
   "name": "python"
  }
 },
 "nbformat": 4,
 "nbformat_minor": 0
}
