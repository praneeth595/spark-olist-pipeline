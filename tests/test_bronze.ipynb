{
 "cells": [
  {
   "cell_type": "code",
   "execution_count": 0,
   "metadata": {
    "application/vnd.databricks.v1+cell": {
     "cellMetadata": {
      "byteLimit": 2048000,
      "rowLimit": 10000
     },
     "inputWidgets": {},
     "nuid": "b3063824-41f0-4070-90bb-b7270b98ec50",
     "showTitle": false,
     "tableResultSettingsMap": {},
     "title": ""
    }
   },
   "outputs": [],
   "source": [
    "%run\n",
    "/Workspace/Repos/h20240186@pilani.bits-pilani.ac.in/spark-olist-pipeline/src/bronze/bronze_ingest"
   ]
  },
  {
   "cell_type": "code",
   "execution_count": 0,
   "metadata": {
    "application/vnd.databricks.v1+cell": {
     "cellMetadata": {
      "byteLimit": 2048000,
      "rowLimit": 10000
     },
     "inputWidgets": {},
     "nuid": "2788b906-e93a-4f2d-a57b-c3ecebe92830",
     "showTitle": false,
     "tableResultSettingsMap": {},
     "title": ""
    }
   },
   "outputs": [],
   "source": [
    "import pytest\n",
    "\n",
    "from chispa.dataframe_comparer import assert_df_equality\n",
    "from pyspark.sql import functions as F\n",
    "\n",
    "@pytest.mark.bronze\n",
    "def test_transform_bronze_adds_partition_col(spark):\n",
    "    data = [\n",
    "        (\"o1\", \"2021-01-15 10:00:00\"),\n",
    "        (\"o2\", \"2021-02-20 12:00:00\"),\n",
    "    ]\n",
    "    df = spark.createDataFrame(data, [\"order_id\", \"order_purchase_timestamp\"]) \\\n",
    "              .withColumn(\"order_purchase_timestamp\", F.to_timestamp(\"order_purchase_timestamp\"))\n",
    "\n",
    "    result = transform_bronze(df, \"order_purchase_timestamp\")\n",
    "\n",
    "    expected = spark.createDataFrame([\n",
    "        (\"o1\", \"2021-01-15 10:00:00\", \"2021-01\"),\n",
    "        (\"o2\", \"2021-02-20 12:00:00\", \"2021-02\"),\n",
    "    ], [\"order_id\", \"order_purchase_timestamp\", \"order_month\"]) \\\n",
    "    .withColumn(\"order_purchase_timestamp\", F.to_timestamp(\"order_purchase_timestamp\"))\n",
    "\n",
    "    assert_df_equality(result, expected, ignore_row_order=True, ignore_column_order=True)\n",
    "\n",
    "    \n"
   ]
  },
  {
   "cell_type": "code",
   "execution_count": 0,
   "metadata": {
    "application/vnd.databricks.v1+cell": {
     "cellMetadata": {},
     "inputWidgets": {},
     "nuid": "94ed1517-2cfb-4a37-918f-c943b2788926",
     "showTitle": false,
     "tableResultSettingsMap": {},
     "title": ""
    }
   },
   "outputs": [],
   "source": []
  }
 ],
 "metadata": {
  "application/vnd.databricks.v1+notebook": {
   "computePreferences": null,
   "dashboards": [],
   "environmentMetadata": {
    "base_environment": "",
    "environment_version": "3"
   },
   "inputWidgetPreferences": null,
   "language": "python",
   "notebookMetadata": {
    "pythonIndentUnit": 4
   },
   "notebookName": "test_bronze",
   "widgets": {}
  },
  "language_info": {
   "name": "python"
  }
 },
 "nbformat": 4,
 "nbformat_minor": 0
}
