{
 "cells": [
  {
   "cell_type": "code",
   "execution_count": 0,
   "metadata": {
    "application/vnd.databricks.v1+cell": {
     "cellMetadata": {
      "byteLimit": 2048000,
      "rowLimit": 10000
     },
     "inputWidgets": {},
     "nuid": "6fa50a51-cfa0-4260-a85a-6cc5e9c3488d",
     "showTitle": false,
     "tableResultSettingsMap": {},
     "title": ""
    }
   },
   "outputs": [],
   "source": [
    "%run\n",
    "/Workspace/Repos/h20240186@pilani.bits-pilani.ac.in/spark-olist-pipeline/src/silver/silver_transform"
   ]
  },
  {
   "cell_type": "code",
   "execution_count": 0,
   "metadata": {
    "application/vnd.databricks.v1+cell": {
     "cellMetadata": {
      "byteLimit": 2048000,
      "rowLimit": 10000
     },
     "inputWidgets": {},
     "nuid": "aca6026a-9668-459a-8479-d4346addd246",
     "showTitle": false,
     "tableResultSettingsMap": {},
     "title": ""
    }
   },
   "outputs": [],
   "source": [
    "from chispa.dataframe_comparer import assert_df_equality\n",
    "from pyspark.sql import functions as F\n",
    "\n",
    "\n",
    "from src.silver_curate import curate_to_silver\n",
    "\n",
    "\n",
    "def test_curate_to_silver_standardizes_and_dedupes(spark):\n",
    "    data = [\n",
    "        (\"c1\", \"  sao paulo \", \"sp\"),\n",
    "        (\"c1\", \"  sao paulo \", \"sp\"),  # duplicate row\n",
    "        (\"c2\", \"RIO DE JANEIRO\", \"rj\"),\n",
    "    ]\n",
    "    df = spark.createDataFrame(data, [\"customer_id\", \"customer_city\", \"customer_state\"])\n",
    "\n",
    "    config = {\n",
    "        \"deduplicate_cols\": [\"customer_id\"],\n",
    "        \"standardize_cols\": {\"customer_city\": \"title\", \"customer_state\": \"upper\"},\n",
    "        \"input_path\": \"\",\n",
    "    }\n",
    "\n",
    "    result = curate_to_silver(df, config)  # assume modified version returns df\n",
    "\n",
    "    expected = spark.createDataFrame([\n",
    "        (\"c1\", \"Sao Paulo\", \"SP\"),\n",
    "        (\"c2\", \"Rio De Janeiro\", \"RJ\"),\n",
    "    ], [\"customer_id\", \"customer_city\", \"customer_state\"])\n",
    "\n",
    "    assert_df_equality(result, expected, ignore_row_order=True, ignore_column_order=True)\n"
   ]
  },
  {
   "cell_type": "code",
   "execution_count": 0,
   "metadata": {
    "application/vnd.databricks.v1+cell": {
     "cellMetadata": {
      "byteLimit": 2048000,
      "rowLimit": 10000
     },
     "inputWidgets": {},
     "nuid": "ac559cce-1034-4093-be47-2a8292935522",
     "showTitle": false,
     "tableResultSettingsMap": {},
     "title": ""
    }
   },
   "outputs": [],
   "source": [
    "%pip install chispa"
   ]
  },
  {
   "cell_type": "code",
   "execution_count": 0,
   "metadata": {
    "application/vnd.databricks.v1+cell": {
     "cellMetadata": {},
     "inputWidgets": {},
     "nuid": "c8661cb5-4246-4af9-91b2-cdec9871a035",
     "showTitle": false,
     "tableResultSettingsMap": {},
     "title": ""
    }
   },
   "outputs": [],
   "source": []
  }
 ],
 "metadata": {
  "application/vnd.databricks.v1+notebook": {
   "computePreferences": null,
   "dashboards": [],
   "environmentMetadata": {
    "base_environment": "",
    "environment_version": "3"
   },
   "inputWidgetPreferences": null,
   "language": "python",
   "notebookMetadata": {
    "pythonIndentUnit": 4
   },
   "notebookName": "test_silver",
   "widgets": {}
  },
  "language_info": {
   "name": "python"
  }
 },
 "nbformat": 4,
 "nbformat_minor": 0
}
