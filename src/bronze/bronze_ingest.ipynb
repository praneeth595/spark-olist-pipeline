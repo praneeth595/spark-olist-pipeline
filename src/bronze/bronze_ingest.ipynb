{
 "cells": [
  {
   "cell_type": "code",
   "execution_count": 0,
   "metadata": {
    "application/vnd.databricks.v1+cell": {
     "cellMetadata": {
      "byteLimit": 2048000,
      "rowLimit": 10000
     },
     "inputWidgets": {},
     "nuid": "aaff8a94-cdbe-4804-bbfe-40b8ccbc1cf8",
     "showTitle": false,
     "tableResultSettingsMap": {},
     "title": ""
    }
   },
   "outputs": [],
   "source": [
    "%run\n",
    "/Workspace/Repos/h20240186@pilani.bits-pilani.ac.in/spark-olist-pipeline/src/utils/config"
   ]
  },
  {
   "cell_type": "code",
   "execution_count": 0,
   "metadata": {
    "application/vnd.databricks.v1+cell": {
     "cellMetadata": {
      "byteLimit": 2048000,
      "rowLimit": 10000
     },
     "inputWidgets": {},
     "nuid": "6cf0b5fb-7cec-44b2-939d-8cf7d53ecf7f",
     "showTitle": false,
     "tableResultSettingsMap": {},
     "title": ""
    }
   },
   "outputs": [],
   "source": [
    "from pyspark.sql.functions import date_format\n",
    "\n",
    "def transform_bronze(df, partition_col=None, repartition_rows=None):\n",
    "    if partition_col:\n",
    "        df = df.withColumn(\"order_month\", date_format(df[partition_col], \"yyyy-MM\"))\n",
    "        if repartition_rows:\n",
    "            df = df.repartition(repartition_rows, \"order_month\")  # Only if explicitly requested\n",
    "    return df\n",
    "\n",
    "\n",
    "def ingest_to_bronze(spark, cfg):\n",
    "    df = (spark.read.format(\"csv\")\n",
    "                  .option(\"header\", True)\n",
    "                  .option(\"inferSchema\", True)\n",
    "                  .load(cfg[\"input_path\"]))\n",
    "    df = transform_bronze(df, cfg.get(\"partition_col\"))\n",
    "    writer = (df.write.format(\"delta\")\n",
    "                  .option(\"maxRecordsPerFile\", 1_000_000)\n",
    "                  .mode(\"overwrite\"))\n",
    "    if cfg.get(\"partition_col\"):\n",
    "        writer = writer.partitionBy(\"order_month\")\n",
    "    writer.save(cfg[\"output_path\"])\n",
    "    return df\n"
   ]
  },
  {
   "cell_type": "code",
   "execution_count": 0,
   "metadata": {
    "application/vnd.databricks.v1+cell": {
     "cellMetadata": {
      "byteLimit": 2048000,
      "rowLimit": 10000
     },
     "inputWidgets": {},
     "nuid": "f6107457-3dd0-4460-8d8a-fa03490f32fa",
     "showTitle": false,
     "tableResultSettingsMap": {},
     "title": ""
    }
   },
   "outputs": [],
   "source": [
    "\n",
    "for table, cfg in bronze_sources.items():\n",
    "    ingest_to_bronze(spark, cfg)"
   ]
  },
  {
   "cell_type": "code",
   "execution_count": 0,
   "metadata": {
    "application/vnd.databricks.v1+cell": {
     "cellMetadata": {
      "byteLimit": 2048000,
      "rowLimit": 10000
     },
     "inputWidgets": {},
     "nuid": "031282b9-255e-4483-b7ac-4280c25ba11d",
     "showTitle": false,
     "tableResultSettingsMap": {},
     "title": ""
    }
   },
   "outputs": [],
   "source": [
    "#inspecting schema for transformations\n",
    "\n",
    "def print_schema(link):\n",
    "    df = spark.read.format(\"delta\").load(link)\n",
    "    df.printSchema()\n",
    "\n",
    "\n",
    "\n",
    "for key,value in bronze_sources.items():\n",
    "    print_schema(value[\"output_path\"])"
   ]
  },
  {
   "cell_type": "code",
   "execution_count": 0,
   "metadata": {
    "application/vnd.databricks.v1+cell": {
     "cellMetadata": {},
     "inputWidgets": {},
     "nuid": "d8a78bf9-bb12-4448-aa94-1415a3ef04ce",
     "showTitle": false,
     "tableResultSettingsMap": {},
     "title": ""
    }
   },
   "outputs": [],
   "source": []
  }
 ],
 "metadata": {
  "application/vnd.databricks.v1+notebook": {
   "computePreferences": null,
   "dashboards": [],
   "environmentMetadata": {
    "base_environment": "",
    "environment_version": "3"
   },
   "inputWidgetPreferences": null,
   "language": "python",
   "notebookMetadata": {
    "pythonIndentUnit": 4
   },
   "notebookName": "bronze_ingest",
   "widgets": {}
  },
  "language_info": {
   "name": "python"
  }
 },
 "nbformat": 4,
 "nbformat_minor": 0
}
