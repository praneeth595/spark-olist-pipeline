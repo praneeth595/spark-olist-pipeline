{
 "cells": [
  {
   "cell_type": "code",
   "execution_count": 0,
   "metadata": {
    "application/vnd.databricks.v1+cell": {
     "cellMetadata": {
      "byteLimit": 2048000,
      "rowLimit": 10000
     },
     "inputWidgets": {},
     "nuid": "aaff8a94-cdbe-4804-bbfe-40b8ccbc1cf8",
     "showTitle": false,
     "tableResultSettingsMap": {},
     "title": ""
    }
   },
   "outputs": [],
   "source": [
    "%run\n",
    "/Workspace/Repos/h20240186@pilani.bits-pilani.ac.in/spark-olist-pipeline/src/utils/config"
   ]
  },
  {
   "cell_type": "code",
   "execution_count": 0,
   "metadata": {
    "application/vnd.databricks.v1+cell": {
     "cellMetadata": {
      "byteLimit": 2048000,
      "rowLimit": 10000
     },
     "inputWidgets": {},
     "nuid": "6cf0b5fb-7cec-44b2-939d-8cf7d53ecf7f",
     "showTitle": false,
     "tableResultSettingsMap": {},
     "title": ""
    }
   },
   "outputs": [],
   "source": [
    "from pyspark.sql.functions import date_format\n",
    "\n",
    "def ingest_to_bronze(table, cfg):\n",
    "    \"\"\"Ingest data from source to bronze table.\"\"\"\n",
    "    df=spark.read.format(\"csv\")\\\n",
    "        .option(\"header\", True)\\\n",
    "        .option(\"inferSchema\", True)\\\n",
    "        .load(cfg[\"input_path\"])\n",
    "   \n",
    "    if cfg[\"partition_col\"]:\n",
    "        df = df.withColumn(\"order_month\", date_format(df[cfg[\"partition_col\"]], \"yyyy-MM\"))\n",
    "        df=df.repartition(50,\"order_month\")\n",
    "        df.write.format(\"delta\")\\\n",
    "            .partitionBy(\"order_month\")\\\n",
    "            .option(\"maxRecordsPerFile\", 1000000)\\\n",
    "            .mode(\"overwrite\")\\\n",
    "            .save(cfg[\"output_path\"])\n",
    "    else:\n",
    "        df.write.format(\"delta\")\\\n",
    "        .mode(\"overwrite\")\\\n",
    "        .option(\"maxRecordsPerFile\", 1000000)\\\n",
    "        .save(cfg[\"output_path\"])\n",
    "    \n"
   ]
  },
  {
   "cell_type": "code",
   "execution_count": 0,
   "metadata": {
    "application/vnd.databricks.v1+cell": {
     "cellMetadata": {
      "byteLimit": 2048000,
      "rowLimit": 10000
     },
     "inputWidgets": {},
     "nuid": "f6107457-3dd0-4460-8d8a-fa03490f32fa",
     "showTitle": false,
     "tableResultSettingsMap": {},
     "title": ""
    }
   },
   "outputs": [],
   "source": [
    "for table, cfg in bronze_sources.items():\n",
    "    ingest_to_bronze(table, cfg)"
   ]
  },
  {
   "cell_type": "code",
   "execution_count": 0,
   "metadata": {
    "application/vnd.databricks.v1+cell": {
     "cellMetadata": {},
     "inputWidgets": {},
     "nuid": "031282b9-255e-4483-b7ac-4280c25ba11d",
     "showTitle": false,
     "tableResultSettingsMap": {},
     "title": ""
    }
   },
   "outputs": [],
   "source": []
  }
 ],
 "metadata": {
  "application/vnd.databricks.v1+notebook": {
   "computePreferences": null,
   "dashboards": [],
   "environmentMetadata": {
    "base_environment": "",
    "environment_version": "3"
   },
   "inputWidgetPreferences": null,
   "language": "python",
   "notebookMetadata": {
    "pythonIndentUnit": 4
   },
   "notebookName": "bronze_ingest",
   "widgets": {}
  },
  "language_info": {
   "name": "python"
  }
 },
 "nbformat": 4,
 "nbformat_minor": 0
}
