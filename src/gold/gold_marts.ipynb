{
 "cells": [
  {
   "cell_type": "code",
   "execution_count": 0,
   "metadata": {
    "application/vnd.databricks.v1+cell": {
     "cellMetadata": {
      "byteLimit": 2048000,
      "rowLimit": 10000
     },
     "inputWidgets": {},
     "nuid": "691e498e-545d-4bd5-b5da-27b1504e08f1",
     "showTitle": false,
     "tableResultSettingsMap": {},
     "title": ""
    }
   },
   "outputs": [],
   "source": [
    "from pyspark.sql.functions import *\n",
    "from pyspark.sql.types import *\n",
    "from pyspark.sql import functions as F"
   ]
  },
  {
   "cell_type": "code",
   "execution_count": 0,
   "metadata": {
    "application/vnd.databricks.v1+cell": {
     "cellMetadata": {
      "byteLimit": 2048000,
      "rowLimit": 10000
     },
     "inputWidgets": {},
     "nuid": "e596b5d4-078b-49f8-bd2a-eaf04eacaac1",
     "showTitle": false,
     "tableResultSettingsMap": {},
     "title": ""
    }
   },
   "outputs": [],
   "source": [
    "orders = spark.table(\"orders_clean\")\n",
    "order_items = spark.table(\"order_items_clean\")\n",
    "products = spark.table(\"products_clean\")\n",
    "sellers = spark.table(\"sellers_clean\")"
   ]
  },
  {
   "cell_type": "code",
   "execution_count": 0,
   "metadata": {
    "application/vnd.databricks.v1+cell": {
     "cellMetadata": {
      "byteLimit": 2048000,
      "rowLimit": 10000
     },
     "inputWidgets": {},
     "nuid": "797c9763-79c9-434c-812e-0684c60417fd",
     "showTitle": false,
     "tableResultSettingsMap": {},
     "title": ""
    }
   },
   "outputs": [],
   "source": [
    "orders_items = orders.join(order_items, \"order_id\")\n",
    "\n",
    "\n",
    "orders_items_sellers = orders_items.join(sellers, \"seller_id\")\n",
    "\n",
    "\n",
    "daily_state_revenue = (\n",
    "    orders_items_sellers\n",
    "    .withColumn(\"order_date\", F.to_date(\"order_purchase_timestamp\"))\n",
    "    .groupBy(\"order_date\", \"seller_state\")\n",
    "    .agg(\n",
    "        F.sum(\"price\").alias(\"total_revenue\"),\n",
    "        F.sum(\"freight_value\").alias(\"total_freight\")\n",
    "    )\n",
    ")\n",
    "\n",
    "\n",
    "daily_state_revenue.show(10)"
   ]
  },
  {
   "cell_type": "code",
   "execution_count": 0,
   "metadata": {
    "application/vnd.databricks.v1+cell": {
     "cellMetadata": {},
     "inputWidgets": {},
     "nuid": "fd070853-0979-4d62-8954-fb7a156848f2",
     "showTitle": false,
     "tableResultSettingsMap": {},
     "title": ""
    }
   },
   "outputs": [],
   "source": []
  }
 ],
 "metadata": {
  "application/vnd.databricks.v1+notebook": {
   "computePreferences": null,
   "dashboards": [],
   "environmentMetadata": {
    "base_environment": "",
    "environment_version": "3"
   },
   "inputWidgetPreferences": null,
   "language": "python",
   "notebookMetadata": {
    "pythonIndentUnit": 4
   },
   "notebookName": "gold_marts",
   "widgets": {}
  },
  "language_info": {
   "name": "python"
  }
 },
 "nbformat": 4,
 "nbformat_minor": 0
}
