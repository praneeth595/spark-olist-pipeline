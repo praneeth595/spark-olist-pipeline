{
 "cells": [
  {
   "cell_type": "markdown",
   "metadata": {
    "application/vnd.databricks.v1+cell": {
     "cellMetadata": {
      "byteLimit": 2048000,
      "rowLimit": 10000
     },
     "inputWidgets": {},
     "nuid": "c3926b07-bfc2-463f-a433-b02d633ac4a6",
     "showTitle": false,
     "tableResultSettingsMap": {},
     "title": ""
    }
   },
   "source": [
    "### **Bronze Config**\n"
   ]
  },
  {
   "cell_type": "code",
   "execution_count": 0,
   "metadata": {
    "application/vnd.databricks.v1+cell": {
     "cellMetadata": {
      "byteLimit": 2048000,
      "rowLimit": 10000
     },
     "inputWidgets": {},
     "nuid": "f092bebf-d5a0-4d20-a323-1eb8f23dd7b6",
     "showTitle": false,
     "tableResultSettingsMap": {},
     "title": ""
    }
   },
   "outputs": [],
   "source": [
    "bronze_sources = {\n",
    "    \"customers\": {\n",
    "        \"input_path\": \"/Volumes/spark_olist/data/raw/olist_customers_dataset.csv\",\n",
    "        \"output_path\": \"/Volumes/spark_olist/bronze/delta/customers\",\n",
    "        \"partition_col\": None\n",
    "    },\n",
    "    \"geolocation\": {\n",
    "        \"input_path\": \"/Volumes/spark_olist/data/raw/olist_geolocation_dataset.csv\",\n",
    "        \"output_path\": \"/Volumes/spark_olist/bronze/delta/geolocation\",\n",
    "        \"partition_col\": None\n",
    "    },\n",
    "    \"order_items\": {\n",
    "        \"input_path\": \"/Volumes/spark_olist/data/raw/olist_order_items_dataset.csv\",\n",
    "        \"output_path\": \"/Volumes/spark_olist/bronze/delta/order_items\",\n",
    "        \"partition_col\": None\n",
    "    },\n",
    "    \"order_payments\": {\n",
    "        \"input_path\": \"/Volumes/spark_olist/data/raw/olist_order_payments_dataset.csv\",\n",
    "        \"output_path\": \"/Volumes/spark_olist/bronze/delta/order_payments\",\n",
    "        \"partition_col\": None\n",
    "    },\n",
    "    \"orders\": {\n",
    "        \"input_path\": \"/Volumes/spark_olist/data/raw/olist_orders_dataset.csv\",\n",
    "        \"output_path\": \"/Volumes/spark_olist/bronze/delta/orders\",\n",
    "        \"partition_col\": \"order_purchase_timestamp\"\n",
    "    },\n",
    "    \"products\": {\n",
    "        \"input_path\": \"/Volumes/spark_olist/data/raw/olist_products_dataset.csv\",\n",
    "        \"output_path\": \"/Volumes/spark_olist/bronze/delta/products\",\n",
    "        \"partition_col\": None\n",
    "    },\n",
    "    \"sellers\": {\n",
    "        \"input_path\": \"/Volumes/spark_olist/data/raw/olist_sellers_dataset.csv\",\n",
    "        \"output_path\": \"/Volumes/spark_olist/bronze/delta/sellers\",\n",
    "        \"partition_col\": None\n",
    "    },\n",
    "    \"product_category_translation\": {\n",
    "        \"input_path\": \"/Volumes/spark_olist/data/raw/product_category_name_translation.csv\",\n",
    "        \"output_path\": \"/Volumes/spark_olist/bronze/delta/product_category_translation\",\n",
    "        \"partition_col\": None\n",
    "    }\n",
    "}\n"
   ]
  }
 ],
 "metadata": {
  "application/vnd.databricks.v1+notebook": {
   "computePreferences": {
    "hardware": {
     "accelerator": null,
     "gpuPoolId": null,
     "memory": null
    }
   },
   "dashboards": [],
   "environmentMetadata": {
    "base_environment": "",
    "environment_version": "3"
   },
   "inputWidgetPreferences": null,
   "language": "python",
   "notebookMetadata": {
    "pythonIndentUnit": 4
   },
   "notebookName": "config",
   "widgets": {}
  },
  "language_info": {
   "name": "python"
  }
 },
 "nbformat": 4,
 "nbformat_minor": 0
}
