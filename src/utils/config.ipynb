{
 "cells": [
  {
   "cell_type": "code",
   "execution_count": 0,
   "metadata": {
    "application/vnd.databricks.v1+cell": {
     "cellMetadata": {
      "byteLimit": 2048000,
      "rowLimit": 10000
     },
     "inputWidgets": {},
     "nuid": "f092bebf-d5a0-4d20-a323-1eb8f23dd7b6",
     "showTitle": false,
     "tableResultSettingsMap": {},
     "title": ""
    }
   },
   "outputs": [],
   "source": [
    "bronze_sources = {\n",
    "    \"customers\": {\n",
    "        \"input_path\": \"/Volumes/spark_olist/data/raw/olist_customers_dataset.csv\",\n",
    "        \"output_path\": \"/Volumes/spark_olist/bronze/delta/customers\",\n",
    "        \"partition_col\": None\n",
    "    },\n",
    "    \"geolocation\": {\n",
    "        \"input_path\": \"/Volumes/spark_olist/data/raw/olist_geolocation_dataset.csv\",\n",
    "        \"output_path\": \"/Volumes/spark_olist/bronze/delta/geolocation\",\n",
    "        \"partition_col\": None\n",
    "    },\n",
    "    \"order_items\": {\n",
    "        \"input_path\": \"/Volumes/spark_olist/data/raw/olist_order_items_dataset.csv\",\n",
    "        \"output_path\": \"/Volumes/spark_olist/bronze/delta/order_items\",\n",
    "        \"partition_col\": None\n",
    "    },\n",
    "    \"order_payments\": {\n",
    "        \"input_path\": \"/Volumes/spark_olist/data/raw/olist_order_payments_dataset.csv\",\n",
    "        \"output_path\": \"/Volumes/spark_olist/bronze/delta/order_payments\",\n",
    "        \"partition_col\": None\n",
    "    },\n",
    "    \"orders\": {\n",
    "        \"input_path\": \"/Volumes/spark_olist/data/raw/olist_orders_dataset.csv\",\n",
    "        \"output_path\": \"/Volumes/spark_olist/bronze/delta/orders\",\n",
    "        \"partition_col\": \"order_purchase_timestamp\"\n",
    "    },\n",
    "    \"products\": {\n",
    "        \"input_path\": \"/Volumes/spark_olist/data/raw/olist_products_dataset.csv\",\n",
    "        \"output_path\": \"/Volumes/spark_olist/bronze/delta/products\",\n",
    "        \"partition_col\": None\n",
    "    },\n",
    "    \"sellers\": {\n",
    "        \"input_path\": \"/Volumes/spark_olist/data/raw/olist_sellers_dataset.csv\",\n",
    "        \"output_path\": \"/Volumes/spark_olist/bronze/delta/sellers\",\n",
    "        \"partition_col\": None\n",
    "    },\n",
    "    \"product_category_translation\": {\n",
    "        \"input_path\": \"/Volumes/spark_olist/data/raw/product_category_name_translation.csv\",\n",
    "        \"output_path\": \"/Volumes/spark_olist/bronze/delta/product_category_translation\",\n",
    "        \"partition_col\": None\n",
    "    }\n",
    "  \n",
    "}\n"
   ]
  },
  {
   "cell_type": "code",
   "execution_count": 0,
   "metadata": {
    "application/vnd.databricks.v1+cell": {
     "cellMetadata": {},
     "inputWidgets": {},
     "nuid": "8d603f5e-1b7e-48b7-8931-d5379d95eabb",
     "showTitle": false,
     "tableResultSettingsMap": {},
     "title": ""
    }
   },
   "outputs": [],
   "source": [
    "silver_sources = {\n",
    "    \"customers_clean\": {\n",
    "        \"input_path\": \"/Volumes/spark_olist/bronze/delta/customers\",\n",
    "        \"output_path\": \"/Volumes/spark_olist/silver/delta/customers_clean\",\n",
    "        \"deduplicate_cols\": [\"customer_id\"],\n",
    "        \"standardize_cols\": {\n",
    "            \"customer_city\": \"title\",\n",
    "            \"customer_state\": \"upper\"\n",
    "        }\n",
    "    },\n",
    "    \"sellers_clean\": {\n",
    "        \"input_path\": \"/Volumes/spark_olist/bronze/delta/sellers\",\n",
    "        \"output_path\": \"/Volumes/spark_olist/silver/delta/sellers_clean\",\n",
    "        \"deduplicate_cols\": [\"seller_id\"],\n",
    "        \"standardize_cols\": {\n",
    "            \"seller_city\": \"title\",\n",
    "            \"seller_state\": \"upper\"\n",
    "        }\n",
    "    },\n",
    "    \"orders_clean\": {\n",
    "        \"input_path\": \"/Volumes/spark_olist/bronze/delta/orders\",\n",
    "        \"output_path\": \"/Volumes/spark_olist/silver/delta/orders_clean\",\n",
    "        \"deduplicate_cols\": None,   # or [\"order_id\"] if you want to be safe\n",
    "        \"standardize_cols\": {\n",
    "            \"order_status\": \"lower\"\n",
    "        }\n",
    "    },\n",
    "\n",
    "    # ✅ NEW: order_items\n",
    "    \"order_items_clean\": {\n",
    "        \"input_path\": \"/Volumes/spark_olist/bronze/delta/order_items\",\n",
    "        \"output_path\": \"/Volumes/spark_olist/silver/delta/order_items_clean\",\n",
    "        \"deduplicate_cols\": [\"order_id\", \"order_item_id\"],\n",
    "        \"standardize_cols\": None  # nothing to standardize here\n",
    "    },\n",
    "\n",
    "    \"products_clean\": {\n",
    "        \"input_path\": \"/Volumes/spark_olist/bronze/delta/products\",\n",
    "        \"output_path\": \"/Volumes/spark_olist/silver/delta/products_clean\",\n",
    "        \"deduplicate_cols\": None,   # or [\"product_id\"] if you want to be safe\n",
    "        \"standardize_cols\": {\n",
    "            \"product_category_name\": \"lower\"\n",
    "        }\n",
    "    },\n",
    "    \"order_payments_clean\": {\n",
    "        \"input_path\": \"/Volumes/spark_olist/bronze/delta/order_payments\",\n",
    "        \"output_path\": \"/Volumes/spark_olist/silver/delta/order_payments_clean\",\n",
    "        \"deduplicate_cols\": None,   # or [\"order_id\",\"payment_sequential\"]\n",
    "        \"standardize_cols\": {\n",
    "            \"payment_type\": \"lower\"\n",
    "        }\n",
    "    },\n",
    "    \"geolocation_clean\": {\n",
    "        \"input_path\": \"/Volumes/spark_olist/bronze/delta/geolocation\",\n",
    "        \"output_path\": \"/Volumes/spark_olist/silver/delta/geolocation_clean\",\n",
    "        \"deduplicate_cols\": None,\n",
    "        \"standardize_cols\": {\n",
    "            \"geolocation_city\": \"title\",\n",
    "            \"geolocation_state\": \"upper\"\n",
    "        }\n",
    "    },\n",
    "\n",
    "    # 🔧 Updated: also lower the Portuguese name to match products join\n",
    "    \"product_category_translation_clean\": {\n",
    "        \"input_path\": \"/Volumes/spark_olist/bronze/delta/product_category_translation\",\n",
    "        \"output_path\": \"/Volumes/spark_olist/silver/delta/product_category_translation_clean\",\n",
    "        \"deduplicate_cols\": None,\n",
    "        \"standardize_cols\": {\n",
    "            \"product_category_name\": \"lower\",\n",
    "            \"product_category_name_english\": \"lower\"\n",
    "        }\n",
    "    }\n",
    "}\n"
   ]
  }
 ],
 "metadata": {
  "application/vnd.databricks.v1+notebook": {
   "computePreferences": {
    "hardware": {
     "accelerator": null,
     "gpuPoolId": null,
     "memory": null
    }
   },
   "dashboards": [],
   "environmentMetadata": {
    "base_environment": "",
    "environment_version": "3"
   },
   "inputWidgetPreferences": null,
   "language": "python",
   "notebookMetadata": {
    "pythonIndentUnit": 4
   },
   "notebookName": "config",
   "widgets": {}
  },
  "language_info": {
   "name": "python"
  }
 },
 "nbformat": 4,
 "nbformat_minor": 0
}
