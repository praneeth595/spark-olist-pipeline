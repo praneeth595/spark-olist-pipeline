{
 "cells": [
  {
   "cell_type": "code",
   "execution_count": 0,
   "metadata": {
    "application/vnd.databricks.v1+cell": {
     "cellMetadata": {
      "byteLimit": 2048000,
      "rowLimit": 10000
     },
     "inputWidgets": {},
     "nuid": "df3731e5-3b36-4b65-a085-10729fcd6e41",
     "showTitle": false,
     "tableResultSettingsMap": {},
     "title": ""
    }
   },
   "outputs": [],
   "source": [
    "# imports\n",
    "from pyspark.sql import functions as F\n",
    "from pyspark.sql.functions import broadcast\n",
    "\n",
    "# Load Silver tables\n",
    "orders = spark.table(\"orders_clean\")\n",
    "customers = spark.table(\"customers_clean\")\n",
    "order_items = spark.table(\"order_items_clean\")\n",
    "sellers = spark.table(\"sellers_clean\")\n",
    "payments = spark.table(\"order_payments_clean\")\n",
    "\n"
   ]
  },
  {
   "cell_type": "code",
   "execution_count": 0,
   "metadata": {
    "application/vnd.databricks.v1+cell": {
     "cellMetadata": {
      "byteLimit": 2048000,
      "rowLimit": 10000
     },
     "inputWidgets": {},
     "nuid": "19e9683f-4c41-44d9-832a-d008ee95fcd6",
     "showTitle": false,
     "tableResultSettingsMap": {},
     "title": ""
    }
   },
   "outputs": [],
   "source": [
    "from pyspark.sql.functions import broadcast\n",
    "\n",
    "# Normal join (shuffle join)\n",
    "df_shuffle = orders.join(customers, \"customer_id\")\n",
    "df_shuffle.explain(\"formatted\")\n",
    "\n",
    "# Broadcast join (force)\n",
    "df_broadcast = orders.join(broadcast(customers), \"customer_id\")\n",
    "df_broadcast.explain(\"formatted\")\n"
   ]
  },
  {
   "cell_type": "code",
   "execution_count": 0,
   "metadata": {
    "application/vnd.databricks.v1+cell": {
     "cellMetadata": {
      "byteLimit": 2048000,
      "rowLimit": 10000
     },
     "inputWidgets": {},
     "nuid": "39af6e0f-d8e1-4d42-a9b8-4459e8aa8337",
     "showTitle": false,
     "tableResultSettingsMap": {},
     "title": ""
    }
   },
   "outputs": [],
   "source": [
    "# create salts\n",
    "buckets = 8\n",
    "salts = spark.range(buckets).withColumnRenamed(\"id\", \"__salt\")\n",
    "\n",
    "order_items_salted = order_items.withColumn(\"__salt\", (F.rand()*buckets).cast(\"int\"))\n",
    "sellers_salted = sellers.crossJoin(salts)\n",
    "\n",
    "df_skew_fixed = order_items_salted.join(\n",
    "    sellers_salted,\n",
    "    (order_items_salted.seller_id == sellers_salted.seller_id) &\n",
    "    (order_items_salted.__salt == sellers_salted.__salt)\n",
    ")\n",
    "\n",
    "df_skew_fixed.explain(\"formatted\")\n"
   ]
  },
  {
   "cell_type": "code",
   "execution_count": 0,
   "metadata": {
    "application/vnd.databricks.v1+cell": {
     "cellMetadata": {
      "byteLimit": 2048000,
      "rowLimit": 10000
     },
     "inputWidgets": {},
     "nuid": "f57a1a8c-0852-4830-a0ef-d70baf7817a4",
     "showTitle": false,
     "tableResultSettingsMap": {},
     "title": ""
    }
   },
   "outputs": [],
   "source": [
    "daily_state_revenue = spark.read.format(\"delta\").load(\"/Volumes/spark_olist/gold/delta/daily_sales_state\")\n",
    "daily_state_revenue.explain(\"formatted\")\n"
   ]
  },
  {
   "cell_type": "code",
   "execution_count": 0,
   "metadata": {
    "application/vnd.databricks.v1+cell": {
     "cellMetadata": {},
     "inputWidgets": {},
     "nuid": "4289cd23-03c9-4467-8660-4d6e4f7d8bf9",
     "showTitle": false,
     "tableResultSettingsMap": {},
     "title": ""
    }
   },
   "outputs": [],
   "source": []
  }
 ],
 "metadata": {
  "application/vnd.databricks.v1+notebook": {
   "computePreferences": null,
   "dashboards": [],
   "environmentMetadata": {
    "base_environment": "",
    "environment_version": "3"
   },
   "inputWidgetPreferences": null,
   "language": "python",
   "notebookMetadata": {
    "pythonIndentUnit": 4
   },
   "notebookName": "optimizations_benchmarking",
   "widgets": {}
  },
  "language_info": {
   "name": "python"
  }
 },
 "nbformat": 4,
 "nbformat_minor": 0
}
